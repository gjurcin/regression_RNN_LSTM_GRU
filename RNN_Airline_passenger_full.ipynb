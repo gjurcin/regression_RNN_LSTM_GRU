{
  "nbformat": 4,
  "nbformat_minor": 0,
  "metadata": {
    "colab": {
      "name": "RNN_Airline_passenger-full.ipynb",
      "provenance": [],
      "collapsed_sections": [],
      "toc_visible": true,
      "include_colab_link": true
    },
    "kernelspec": {
      "display_name": "Python 3",
      "language": "python",
      "name": "python3"
    },
    "language_info": {
      "codemirror_mode": {
        "name": "ipython",
        "version": 3
      },
      "file_extension": ".py",
      "mimetype": "text/x-python",
      "name": "python",
      "nbconvert_exporter": "python",
      "pygments_lexer": "ipython3",
      "version": "3.8.5"
    }
  },
  "cells": [
    {
      "cell_type": "markdown",
      "metadata": {
        "id": "view-in-github",
        "colab_type": "text"
      },
      "source": [
        "<a href=\"https://colab.research.google.com/github/gjurcin/regression_RNN_LSTM_GRU/blob/main/RNN_Airline_passenger_full.ipynb\" target=\"_parent\"><img src=\"https://colab.research.google.com/assets/colab-badge.svg\" alt=\"Open In Colab\"/></a>"
      ]
    },
    {
      "cell_type": "markdown",
      "metadata": {
        "id": "b8DivKac3IIQ"
      },
      "source": [
        "# RNNs and LSTMs\n",
        "\n",
        "The problem to solve is Airline Passengers prediction - regression (time series).\n",
        "\n",
        "Given a year and a month, the task is to predict the number of international airline passengers in units of 1,000. The data ranges from January 1949 to December 1960, or 12 years, with 144 observations\n",
        "\n",
        "Link to the dataset: https://raw.githubusercontent.com/jbrownlee/Datasets/master/airline-passengers.csv"
      ]
    },
    {
      "cell_type": "code",
      "metadata": {
        "id": "l_SLiFgszwPo"
      },
      "source": [
        "import numpy as np\n",
        "import matplotlib.pyplot as plt\n",
        "import pandas as pd\n",
        "import math\n",
        "from keras import optimizers\n",
        "from keras.models import Model\n",
        "from keras.layers import Dense, LSTM, SimpleRNN, Input,RepeatVector\n",
        "\n",
        "from sklearn.preprocessing import MinMaxScaler\n",
        "from sklearn.metrics import mean_squared_error,mean_absolute_error\n",
        "from keras.callbacks import ModelCheckpoint, EarlyStopping"
      ],
      "execution_count": null,
      "outputs": []
    },
    {
      "cell_type": "code",
      "metadata": {
        "colab": {
          "resources": {
            "http://localhost:8080/nbextensions/google.colab/files.js": {
              "data": "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",
              "ok": true,
              "headers": [
                [
                  "content-type",
                  "application/javascript"
                ]
              ],
              "status": 200,
              "status_text": ""
            }
          },
          "base_uri": "https://localhost:8080/",
          "height": 72
        },
        "id": "rU7GTFOAgdCl",
        "outputId": "ee6a7c3d-62ea-4fbb-edf8-bd241077af19"
      },
      "source": [
        "#to be executed only once\n",
        "#upload data to google coolab\n",
        "from google.colab import files\n",
        "uploaded = files.upload() "
      ],
      "execution_count": null,
      "outputs": [
        {
          "output_type": "display_data",
          "data": {
            "text/html": [
              "\n",
              "     <input type=\"file\" id=\"files-d86075bd-c7bd-4970-88f0-624b8e17c056\" name=\"files[]\" multiple disabled\n",
              "        style=\"border:none\" />\n",
              "     <output id=\"result-d86075bd-c7bd-4970-88f0-624b8e17c056\">\n",
              "      Upload widget is only available when the cell has been executed in the\n",
              "      current browser session. Please rerun this cell to enable.\n",
              "      </output>\n",
              "      <script src=\"/nbextensions/google.colab/files.js\"></script> "
            ],
            "text/plain": [
              "<IPython.core.display.HTML object>"
            ]
          },
          "metadata": {
            "tags": []
          }
        },
        {
          "output_type": "stream",
          "text": [
            "Saving airline-passengers.csv to airline-passengers.csv\n"
          ],
          "name": "stdout"
        }
      ]
    },
    {
      "cell_type": "code",
      "metadata": {
        "colab": {
          "base_uri": "https://localhost:8080/",
          "height": 419
        },
        "id": "KOtdtgw8guq4",
        "outputId": "048604aa-2cc9-423c-d2d4-1eee17e631a0"
      },
      "source": [
        "#import it to google coolab\n",
        "dataframe = pd.read_csv('/content/airline-passengers.csv')\n",
        "dataframe "
      ],
      "execution_count": null,
      "outputs": [
        {
          "output_type": "execute_result",
          "data": {
            "text/html": [
              "<div>\n",
              "<style scoped>\n",
              "    .dataframe tbody tr th:only-of-type {\n",
              "        vertical-align: middle;\n",
              "    }\n",
              "\n",
              "    .dataframe tbody tr th {\n",
              "        vertical-align: top;\n",
              "    }\n",
              "\n",
              "    .dataframe thead th {\n",
              "        text-align: right;\n",
              "    }\n",
              "</style>\n",
              "<table border=\"1\" class=\"dataframe\">\n",
              "  <thead>\n",
              "    <tr style=\"text-align: right;\">\n",
              "      <th></th>\n",
              "      <th>Month</th>\n",
              "      <th>Passengers</th>\n",
              "    </tr>\n",
              "  </thead>\n",
              "  <tbody>\n",
              "    <tr>\n",
              "      <th>0</th>\n",
              "      <td>1949-01</td>\n",
              "      <td>112</td>\n",
              "    </tr>\n",
              "    <tr>\n",
              "      <th>1</th>\n",
              "      <td>1949-02</td>\n",
              "      <td>118</td>\n",
              "    </tr>\n",
              "    <tr>\n",
              "      <th>2</th>\n",
              "      <td>1949-03</td>\n",
              "      <td>132</td>\n",
              "    </tr>\n",
              "    <tr>\n",
              "      <th>3</th>\n",
              "      <td>1949-04</td>\n",
              "      <td>129</td>\n",
              "    </tr>\n",
              "    <tr>\n",
              "      <th>4</th>\n",
              "      <td>1949-05</td>\n",
              "      <td>121</td>\n",
              "    </tr>\n",
              "    <tr>\n",
              "      <th>...</th>\n",
              "      <td>...</td>\n",
              "      <td>...</td>\n",
              "    </tr>\n",
              "    <tr>\n",
              "      <th>139</th>\n",
              "      <td>1960-08</td>\n",
              "      <td>606</td>\n",
              "    </tr>\n",
              "    <tr>\n",
              "      <th>140</th>\n",
              "      <td>1960-09</td>\n",
              "      <td>508</td>\n",
              "    </tr>\n",
              "    <tr>\n",
              "      <th>141</th>\n",
              "      <td>1960-10</td>\n",
              "      <td>461</td>\n",
              "    </tr>\n",
              "    <tr>\n",
              "      <th>142</th>\n",
              "      <td>1960-11</td>\n",
              "      <td>390</td>\n",
              "    </tr>\n",
              "    <tr>\n",
              "      <th>143</th>\n",
              "      <td>1960-12</td>\n",
              "      <td>432</td>\n",
              "    </tr>\n",
              "  </tbody>\n",
              "</table>\n",
              "<p>144 rows × 2 columns</p>\n",
              "</div>"
            ],
            "text/plain": [
              "       Month  Passengers\n",
              "0    1949-01         112\n",
              "1    1949-02         118\n",
              "2    1949-03         132\n",
              "3    1949-04         129\n",
              "4    1949-05         121\n",
              "..       ...         ...\n",
              "139  1960-08         606\n",
              "140  1960-09         508\n",
              "141  1960-10         461\n",
              "142  1960-11         390\n",
              "143  1960-12         432\n",
              "\n",
              "[144 rows x 2 columns]"
            ]
          },
          "metadata": {
            "tags": []
          },
          "execution_count": 23
        }
      ]
    },
    {
      "cell_type": "markdown",
      "metadata": {
        "id": "knNQHrfIO5MI"
      },
      "source": [
        "## Dataset"
      ]
    },
    {
      "cell_type": "code",
      "metadata": {
        "colab": {
          "base_uri": "https://localhost:8080/",
          "height": 450
        },
        "id": "O2ylCq-kO5MM",
        "outputId": "1ded2fdd-7877-47b2-bd19-fc996a7dab85"
      },
      "source": [
        "#reformat the dataframe to plot it as a date-time timeseries\n",
        "dataframe.Month  = pd.to_datetime(dataframe.Month, format='%Y-%m')\n",
        "dataframe.Passengers  = dataframe.Passengers.astype('float')\n",
        "dataframe = dataframe.set_index('Month') \n",
        "dataframe"
      ],
      "execution_count": null,
      "outputs": [
        {
          "output_type": "execute_result",
          "data": {
            "text/html": [
              "<div>\n",
              "<style scoped>\n",
              "    .dataframe tbody tr th:only-of-type {\n",
              "        vertical-align: middle;\n",
              "    }\n",
              "\n",
              "    .dataframe tbody tr th {\n",
              "        vertical-align: top;\n",
              "    }\n",
              "\n",
              "    .dataframe thead th {\n",
              "        text-align: right;\n",
              "    }\n",
              "</style>\n",
              "<table border=\"1\" class=\"dataframe\">\n",
              "  <thead>\n",
              "    <tr style=\"text-align: right;\">\n",
              "      <th></th>\n",
              "      <th>Passengers</th>\n",
              "    </tr>\n",
              "    <tr>\n",
              "      <th>Month</th>\n",
              "      <th></th>\n",
              "    </tr>\n",
              "  </thead>\n",
              "  <tbody>\n",
              "    <tr>\n",
              "      <th>1949-01-01</th>\n",
              "      <td>112.0</td>\n",
              "    </tr>\n",
              "    <tr>\n",
              "      <th>1949-02-01</th>\n",
              "      <td>118.0</td>\n",
              "    </tr>\n",
              "    <tr>\n",
              "      <th>1949-03-01</th>\n",
              "      <td>132.0</td>\n",
              "    </tr>\n",
              "    <tr>\n",
              "      <th>1949-04-01</th>\n",
              "      <td>129.0</td>\n",
              "    </tr>\n",
              "    <tr>\n",
              "      <th>1949-05-01</th>\n",
              "      <td>121.0</td>\n",
              "    </tr>\n",
              "    <tr>\n",
              "      <th>...</th>\n",
              "      <td>...</td>\n",
              "    </tr>\n",
              "    <tr>\n",
              "      <th>1960-08-01</th>\n",
              "      <td>606.0</td>\n",
              "    </tr>\n",
              "    <tr>\n",
              "      <th>1960-09-01</th>\n",
              "      <td>508.0</td>\n",
              "    </tr>\n",
              "    <tr>\n",
              "      <th>1960-10-01</th>\n",
              "      <td>461.0</td>\n",
              "    </tr>\n",
              "    <tr>\n",
              "      <th>1960-11-01</th>\n",
              "      <td>390.0</td>\n",
              "    </tr>\n",
              "    <tr>\n",
              "      <th>1960-12-01</th>\n",
              "      <td>432.0</td>\n",
              "    </tr>\n",
              "  </tbody>\n",
              "</table>\n",
              "<p>144 rows × 1 columns</p>\n",
              "</div>"
            ],
            "text/plain": [
              "            Passengers\n",
              "Month                 \n",
              "1949-01-01       112.0\n",
              "1949-02-01       118.0\n",
              "1949-03-01       132.0\n",
              "1949-04-01       129.0\n",
              "1949-05-01       121.0\n",
              "...                ...\n",
              "1960-08-01       606.0\n",
              "1960-09-01       508.0\n",
              "1960-10-01       461.0\n",
              "1960-11-01       390.0\n",
              "1960-12-01       432.0\n",
              "\n",
              "[144 rows x 1 columns]"
            ]
          },
          "metadata": {
            "tags": []
          },
          "execution_count": 24
        }
      ]
    },
    {
      "cell_type": "code",
      "metadata": {
        "colab": {
          "base_uri": "https://localhost:8080/",
          "height": 225
        },
        "id": "KM5mbQ--5_dC",
        "outputId": "3b632ef4-fba7-4b8e-c789-a2e56328a491"
      },
      "source": [
        "dataframe.plot(figsize=(18, 3))\n",
        "plt.show()"
      ],
      "execution_count": null,
      "outputs": [
        {
          "output_type": "display_data",
          "data": {
            "image/png": "[encoded data removed]",
            "text/plain": [
              "<Figure size 1296x216 with 1 Axes>"
            ]
          },
          "metadata": {
            "tags": [],
            "needs_background": "light"
          }
        }
      ]
    },
    {
      "cell_type": "code",
      "metadata": {
        "colab": {
          "base_uri": "https://localhost:8080/"
        },
        "id": "b3hyNUqE4I1x",
        "outputId": "b6190e46-33a6-4c09-d8e2-714aad76b268"
      },
      "source": [
        "# prepare the data for deep learning\n",
        "sequence = dataframe.Passengers.values\n",
        "sequence.shape, sequence"
      ],
      "execution_count": null,
      "outputs": [
        {
          "output_type": "execute_result",
          "data": {
            "text/plain": [
              "((144,),\n",
              " array([112., 118., 132., 129., 121., 135., 148., 148., 136., 119., 104.,\n",
              "        118., 115., 126., 141., 135., 125., 149., 170., 170., 158., 133.,\n",
              "        114., 140., 145., 150., 178., 163., 172., 178., 199., 199., 184.,\n",
              "        162., 146., 166., 171., 180., 193., 181., 183., 218., 230., 242.,\n",
              "        209., 191., 172., 194., 196., 196., 236., 235., 229., 243., 264.,\n",
              "        272., 237., 211., 180., 201., 204., 188., 235., 227., 234., 264.,\n",
              "        302., 293., 259., 229., 203., 229., 242., 233., 267., 269., 270.,\n",
              "        315., 364., 347., 312., 274., 237., 278., 284., 277., 317., 313.,\n",
              "        318., 374., 413., 405., 355., 306., 271., 306., 315., 301., 356.,\n",
              "        348., 355., 422., 465., 467., 404., 347., 305., 336., 340., 318.,\n",
              "        362., 348., 363., 435., 491., 505., 404., 359., 310., 337., 360.,\n",
              "        342., 406., 396., 420., 472., 548., 559., 463., 407., 362., 405.,\n",
              "        417., 391., 419., 461., 472., 535., 622., 606., 508., 461., 390.,\n",
              "        432.]))"
            ]
          },
          "metadata": {
            "tags": []
          },
          "execution_count": 26
        }
      ]
    },
    {
      "cell_type": "markdown",
      "metadata": {
        "id": "LhqFabL98fQI"
      },
      "source": [
        "RNNs are sensitive to the scale of the input data, specifically when the sigmoid (default) or tanh activation functions are used. \n",
        "It usually good to rescale the data to the range of 0-to-1 (normalization). "
      ]
    },
    {
      "cell_type": "code",
      "metadata": {
        "colab": {
          "base_uri": "https://localhost:8080/"
        },
        "id": "Qx-66gts5Ruo",
        "outputId": "f74cd2f4-96e8-42a5-cf34-728f4a3fa3d5"
      },
      "source": [
        "# normalize the dataset\n",
        "scaler = MinMaxScaler(feature_range=(0, 1))\n",
        "sequence = scaler.fit_transform(sequence.reshape(-1, 1))\n",
        "sequence.shape"
      ],
      "execution_count": null,
      "outputs": [
        {
          "output_type": "execute_result",
          "data": {
            "text/plain": [
              "(144, 1)"
            ]
          },
          "metadata": {
            "tags": []
          },
          "execution_count": 27
        }
      ]
    },
    {
      "cell_type": "code",
      "metadata": {
        "colab": {
          "base_uri": "https://localhost:8080/",
          "height": 265
        },
        "id": "hHqk96KI9j6h",
        "outputId": "74eada66-9e3b-49fa-97f3-5b581b643477"
      },
      "source": [
        "plt.plot(sequence)\n",
        "plt.show()"
      ],
      "execution_count": null,
      "outputs": [
        {
          "output_type": "display_data",
          "data": {
            "image/png": "[encoded data removed]",
            "text/plain": [
              "<Figure size 432x288 with 1 Axes>"
            ]
          },
          "metadata": {
            "tags": [],
            "needs_background": "light"
          }
        }
      ]
    },
    {
      "cell_type": "code",
      "metadata": {
        "colab": {
          "base_uri": "https://localhost:8080/"
        },
        "id": "FduhMPp_8f0-",
        "outputId": "606579fd-bdd4-48ae-9817-6c84079d4d01"
      },
      "source": [
        "# split into train and test sets. Use first 70% of the data as trianing and last 30% as test\n",
        "train_size = int(len(sequence) * 0.7)\n",
        "test_size = len(sequence) - train_size\n",
        "train, test = sequence[:train_size,:], sequence[train_size:len(sequence),:]\n",
        "train.shape, test.shape"
      ],
      "execution_count": null,
      "outputs": [
        {
          "output_type": "execute_result",
          "data": {
            "text/plain": [
              "((100, 1), (44, 1))"
            ]
          },
          "metadata": {
            "tags": []
          },
          "execution_count": 29
        }
      ]
    },
    {
      "cell_type": "markdown",
      "metadata": {
        "id": "ey3gCkRi-LxB"
      },
      "source": [
        "## Function to reshape and trasnform the dataset\n",
        "\n",
        "Define a function to create a new dataset.\n",
        "\n",
        "n_steps (look_back) - is the number of previous time steps to use as input variables to predict the next time period — (defaulted to 1).\n",
        "\n",
        "This default will create a dataset where X is the number of passengers at a given time (t) and Y is the number of passengers at the next time (t + 1)."
      ]
    },
    {
      "cell_type": "code",
      "metadata": {
        "id": "4LtTUvqv9yBW"
      },
      "source": [
        "# convert an array of values into a dataset matrix\n",
        "def create_dataset(dataset, look_back=1):\n",
        "\tdataX, dataY = [], []\n",
        "\tfor i in range(len(dataset)-look_back-1):\n",
        "\t\ta = dataset[i:(i+look_back), 0]\n",
        "\t\tdataX.append(a)\n",
        "\t\tdataY.append(dataset[i + look_back, 0])\n",
        "\treturn np.array(dataX), np.array(dataY)"
      ],
      "execution_count": null,
      "outputs": []
    },
    {
      "cell_type": "code",
      "metadata": {
        "colab": {
          "base_uri": "https://localhost:8080/"
        },
        "id": "XeFJuOQf-m-l",
        "outputId": "9ebdb078-d474-4eb3-a1c5-2acf6d713248"
      },
      "source": [
        "# reshape the data and print\n",
        "look_back = 3\n",
        "trainX, trainY = create_dataset(train, look_back)\n",
        "testX, testY = create_dataset(test, look_back)\n",
        "for i in range(5):\n",
        "\tprint(trainX[i], trainY[i])"
      ],
      "execution_count": null,
      "outputs": [
        {
          "output_type": "stream",
          "text": [
            "[0.01544402 0.02702703 0.05405405] 0.04826254826254825\n",
            "[0.02702703 0.05405405 0.04826255] 0.03281853281853281\n",
            "[0.05405405 0.04826255 0.03281853] 0.05984555984555981\n",
            "[0.04826255 0.03281853 0.05984556] 0.08494208494208491\n",
            "[0.03281853 0.05984556 0.08494208] 0.08494208494208491\n"
          ],
          "name": "stdout"
        }
      ]
    },
    {
      "cell_type": "markdown",
      "metadata": {
        "id": "C-mJ3SBrFI0Z"
      },
      "source": [
        "## Reshape data\n",
        "Any RNN layer in Keras expects a 3D shape (samples, timesteps, features)"
      ]
    },
    {
      "cell_type": "code",
      "metadata": {
        "colab": {
          "base_uri": "https://localhost:8080/"
        },
        "id": "VNmwiM0g_K2f",
        "outputId": "a82f8bdd-6c26-48df-89af-cc4b31781201"
      },
      "source": [
        "# reshape input to be [samples, time steps, features]\n",
        "trainX = trainX.reshape(trainX.shape[0], trainX.shape[1], 1)\n",
        "testX = testX.reshape (testX.shape[0], testX.shape[1], 1)\n",
        "trainX.shape,testX.shape"
      ],
      "execution_count": null,
      "outputs": [
        {
          "output_type": "execute_result",
          "data": {
            "text/plain": [
              "((96, 3, 1), (40, 3, 1))"
            ]
          },
          "metadata": {
            "tags": []
          },
          "execution_count": 32
        }
      ]
    },
    {
      "cell_type": "markdown",
      "metadata": {
        "id": "uP-mXVGsqcx0"
      },
      "source": [
        "# Stacked RNN, LSTM\n",
        "\n",
        "An RNN/LSTM layer requires a three-dimensional input and LSTMs by default will produce a two-dimensional output as an interpretation from the end of the sequence.\n",
        "\n",
        "We can address this by having the LSTM output a value for each time step in the input data by setting the return_sequences=True argument on the layer. This allows us to have 3D output from hidden LSTM layer as input to the next."
      ]
    },
    {
      "cell_type": "code",
      "metadata": {
        "colab": {
          "base_uri": "https://localhost:8080/"
        },
        "id": "NmLtcB_0qmXt",
        "outputId": "90b3cfe9-68f4-4815-a2bf-e99e4f6ccebb"
      },
      "source": [
        "# create and fit the RNN network\n",
        "def two_layered_RNN(input_shape, num_neurons):\n",
        "  _input = Input(shape=input_shape,dtype='float')\n",
        "  x = SimpleRNN(2*num_neurons, activation='relu', input_shape=input_shape, \n",
        "                return_sequences=True, name='hidden_1')(_input)\n",
        "  x = SimpleRNN(num_neurons, activation='relu', input_shape=input_shape)(x)\n",
        "  output = Dense(1)(x)\n",
        "  my_model = Model(inputs=[_input], outputs=[output])\n",
        "  optimizer = optimizers.Adam()\n",
        "  my_model.compile(optimizer=optimizer,loss='mse')\n",
        "  return my_model\n",
        "\n",
        "num_features = trainX.shape[2]\n",
        "num_timestamps = trainX.shape[1]\n",
        "input_shape = (num_timestamps, num_features)\n",
        "model_stack =  two_layered_RNN(input_shape, num_neurons=10)\n",
        "model_stack.summary()"
      ],
      "execution_count": null,
      "outputs": [
        {
          "output_type": "stream",
          "text": [
            "Model: \"functional_5\"\n",
            "_________________________________________________________________\n",
            "Layer (type)                 Output Shape              Param #   \n",
            "=================================================================\n",
            "input_3 (InputLayer)         [(None, 3, 1)]            0         \n",
            "_________________________________________________________________\n",
            "hidden_1 (SimpleRNN)         (None, 3, 20)             440       \n",
            "_________________________________________________________________\n",
            "simple_rnn_2 (SimpleRNN)     (None, 10)                310       \n",
            "_________________________________________________________________\n",
            "dense_2 (Dense)              (None, 1)                 11        \n",
            "=================================================================\n",
            "Total params: 761\n",
            "Trainable params: 761\n",
            "Non-trainable params: 0\n",
            "_________________________________________________________________\n"
          ],
          "name": "stdout"
        }
      ]
    },
    {
      "cell_type": "code",
      "metadata": {
        "id": "Hv7NqtsBBBNn"
      },
      "source": [
        "#define callbacks\n",
        "callback1 = ModelCheckpoint('best_model.pt', monitor='loss', save_best_only=True, mode='min', verbose=1)\n",
        "callback2 = EarlyStopping(patience=20, monitor='loss', mode='min')\n",
        "callback_list = [callback1, callback2]"
      ],
      "execution_count": null,
      "outputs": []
    },
    {
      "cell_type": "code",
      "metadata": {
        "colab": {
          "base_uri": "https://localhost:8080/"
        },
        "id": "hL5x5m7Bqxw3",
        "scrolled": true,
        "outputId": "a0aef64c-fb46-4c99-8036-b20ae031d006"
      },
      "source": [
        "#train the model\n",
        "model_stack =  two_layered_RNN(input_shape, num_neurons=10)\n",
        "h = model_stack.fit(trainX, trainY, \n",
        "          epochs=20, \n",
        "          batch_size=1, #try with 10 also\n",
        "          callbacks = callback_list, \n",
        "          validation_data=(testX, testY),\n",
        "          verbose=0)"
      ],
      "execution_count": null,
      "outputs": [
        {
          "output_type": "stream",
          "text": [
            "\n",
            "Epoch 00001: loss did not improve from 0.00175\n",
            "\n",
            "Epoch 00002: loss did not improve from 0.00175\n",
            "\n",
            "Epoch 00003: loss did not improve from 0.00175\n",
            "\n",
            "Epoch 00004: loss did not improve from 0.00175\n",
            "\n",
            "Epoch 00005: loss did not improve from 0.00175\n",
            "\n",
            "Epoch 00006: loss did not improve from 0.00175\n",
            "\n",
            "Epoch 00007: loss did not improve from 0.00175\n",
            "\n",
            "Epoch 00008: loss did not improve from 0.00175\n",
            "\n",
            "Epoch 00009: loss did not improve from 0.00175\n",
            "\n",
            "Epoch 00010: loss did not improve from 0.00175\n",
            "\n",
            "Epoch 00011: loss did not improve from 0.00175\n",
            "\n",
            "Epoch 00012: loss did not improve from 0.00175\n",
            "\n",
            "Epoch 00013: loss did not improve from 0.00175\n",
            "\n",
            "Epoch 00014: loss did not improve from 0.00175\n",
            "\n",
            "Epoch 00015: loss did not improve from 0.00175\n",
            "\n",
            "Epoch 00016: loss did not improve from 0.00175\n",
            "\n",
            "Epoch 00017: loss did not improve from 0.00175\n",
            "\n",
            "Epoch 00018: loss did not improve from 0.00175\n",
            "\n",
            "Epoch 00019: loss did not improve from 0.00175\n",
            "\n",
            "Epoch 00020: loss did not improve from 0.00175\n"
          ],
          "name": "stdout"
        }
      ]
    },
    {
      "cell_type": "code",
      "metadata": {
        "colab": {
          "base_uri": "https://localhost:8080/",
          "height": 279
        },
        "id": "Skg-cWlhANPO",
        "outputId": "72e490d9-fc0b-44f0-c122-11c20d30755b"
      },
      "source": [
        "#plot learning curves\n",
        "plt.plot(h.history['loss'],label='train_loss')\n",
        "plt.plot(h.history['val_loss'],label='validation_loss')\n",
        "plt.xlabel('Epoch')\n",
        "plt.ylabel('Loss')\n",
        "plt.show()\n"
      ],
      "execution_count": null,
      "outputs": [
        {
          "output_type": "display_data",
          "data": {
            "image/png": "[encoded data removed]",
            "text/plain": [
              "<Figure size 432x288 with 1 Axes>"
            ]
          },
          "metadata": {
            "tags": [],
            "needs_background": "light"
          }
        }
      ]
    },
    {
      "cell_type": "code",
      "metadata": {
        "colab": {
          "base_uri": "https://localhost:8080/"
        },
        "id": "aaa9Yufwq-8w",
        "outputId": "0ef8cccd-267e-44ad-ae7b-f06fff97d848"
      },
      "source": [
        "# make predictions\n",
        "trainPredict = model_stack.predict(trainX)\n",
        "testPredict = model_stack.predict(testX)\n",
        "testPredict[:5]"
      ],
      "execution_count": null,
      "outputs": [
        {
          "output_type": "execute_result",
          "data": {
            "text/plain": [
              "array([[0.59302354],\n",
              "       [0.6119746 ],\n",
              "       [0.49729258],\n",
              "       [0.42297068],\n",
              "       [0.36754212]], dtype=float32)"
            ]
          },
          "metadata": {
            "tags": []
          },
          "execution_count": 40
        }
      ]
    },
    {
      "cell_type": "code",
      "metadata": {
        "colab": {
          "base_uri": "https://localhost:8080/"
        },
        "id": "Bx7iWcbJq6mU",
        "outputId": "ca1e3523-f2ea-429b-f4b2-20686acabc77"
      },
      "source": [
        "# invert predictions from normalzied values to real values\n",
        "trainPredict_ = scaler.inverse_transform(trainPredict)\n",
        "trainY_ = scaler.inverse_transform([trainY])\n",
        "testPredict_ = scaler.inverse_transform(testPredict)\n",
        "testY_ = scaler.inverse_transform([testY])\n",
        "testPredict_[:5]"
      ],
      "execution_count": null,
      "outputs": [
        {
          "output_type": "execute_result",
          "data": {
            "text/plain": [
              "array([[411.18622],\n",
              "       [421.00287],\n",
              "       [361.59756],\n",
              "       [323.09882],\n",
              "       [294.3868 ]], dtype=float32)"
            ]
          },
          "metadata": {
            "tags": []
          },
          "execution_count": 41
        }
      ]
    },
    {
      "cell_type": "markdown",
      "metadata": {
        "id": "aZTbCBrKq6mY"
      },
      "source": [
        "### Evaluate the model"
      ]
    },
    {
      "cell_type": "code",
      "metadata": {
        "colab": {
          "base_uri": "https://localhost:8080/"
        },
        "id": "lnR0lUEPq6mZ",
        "outputId": "4822259c-42d5-4e2c-e105-d50eb5d24866"
      },
      "source": [
        "# calculate root mean squared error\n",
        "trainScore = math.sqrt(mean_squared_error(trainY_[0], trainPredict_[:,0]))\n",
        "print('Train Score: %.2f RMSE' % (trainScore))\n",
        "testScore = math.sqrt(mean_squared_error(testY_[0], testPredict_[:,0]))\n",
        "print('Test Score: %.2f RMSE' % (testScore))\n",
        "\n",
        "print('\\nTrain Score: %.2f MAE' % (mean_absolute_error(trainY_[0], trainPredict_[:,0])))\n",
        "print('Test Score: %.2f MAE' % (mean_absolute_error(testY_[0], testPredict_[:,0])))"
      ],
      "execution_count": null,
      "outputs": [
        {
          "output_type": "stream",
          "text": [
            "Train Score: 21.57 RMSE\n",
            "Test Score: 53.61 RMSE\n",
            "\n",
            "Train Score: 17.86 MAE\n",
            "Test Score: 42.87 MAE\n"
          ],
          "name": "stdout"
        }
      ]
    },
    {
      "cell_type": "markdown",
      "metadata": {
        "id": "ffq7coZVq6mb"
      },
      "source": [
        "### Visualize the predictions"
      ]
    },
    {
      "cell_type": "code",
      "metadata": {
        "id": "D-tntgSZP2Gt"
      },
      "source": [
        "#visualize the predictions\n",
        "dataframe['train_pred']=np.nan\n",
        "dataframe['test_pred']=np.nan\n",
        "dataframe.iloc[look_back:look_back+len(trainPredict_),1]= trainPredict_[:,0]\n",
        "dataframe.iloc[-len(testPredict_):,2]= testPredict_[:,0]"
      ],
      "execution_count": null,
      "outputs": []
    },
    {
      "cell_type": "code",
      "metadata": {
        "colab": {
          "base_uri": "https://localhost:8080/",
          "height": 242
        },
        "id": "m0ruvZUgQoZk",
        "outputId": "3421d549-c2b3-4330-c456-6bf30bb57148"
      },
      "source": [
        "dataframe.plot(figsize=(18, 3))"
      ],
      "execution_count": null,
      "outputs": [
        {
          "output_type": "execute_result",
          "data": {
            "text/plain": [
              "<matplotlib.axes._subplots.AxesSubplot at 0x7f7a6b9f4eb8>"
            ]
          },
          "metadata": {
            "tags": []
          },
          "execution_count": 45
        },
        {
          "output_type": "display_data",
          "data": {
            "image/png": "[encoded data removed]",
            "text/plain": [
              "<Figure size 1296x216 with 1 Axes>"
            ]
          },
          "metadata": {
            "tags": [],
            "needs_background": "light"
          }
        }
      ]
    },
    {
      "cell_type": "markdown",
      "metadata": {
        "id": "js1v7-yb4T9U"
      },
      "source": [
        "# Many to Many"
      ]
    },
    {
      "cell_type": "markdown",
      "metadata": {
        "id": "YY8bkhPOO5ND"
      },
      "source": [
        "## Prepare the data in appropriate format"
      ]
    },
    {
      "cell_type": "code",
      "metadata": {
        "id": "swODn57v5EON"
      },
      "source": [
        "# split a univariate sequence into samples\n",
        "def split_sequence(sequence, n_steps_in, n_steps_out):\n",
        "\tX, y = list(), list()\n",
        "\tfor i in range(len(sequence)):\n",
        "\t\t# find the end of this pattern\n",
        "\t\tend_ix = i + n_steps_in\n",
        "\t\tout_end_ix = end_ix + n_steps_out\n",
        "\t\t# check if we are beyond the sequence\n",
        "\t\tif out_end_ix > len(sequence):\n",
        "\t\t\tbreak\n",
        "\t\t# gather input and output parts of the pattern\n",
        "\t\tseq_x, seq_y = sequence[i:end_ix], sequence[end_ix:out_end_ix]\n",
        "\t\tX.append(seq_x)\n",
        "\t\ty.append(seq_y)\n",
        "\treturn np.array(X), np.array(y)"
      ],
      "execution_count": null,
      "outputs": []
    },
    {
      "cell_type": "code",
      "metadata": {
        "colab": {
          "base_uri": "https://localhost:8080/"
        },
        "id": "N45hbOY07RFz",
        "outputId": "fd291cc9-f78a-4a1b-d0b8-b6b4d81062cb"
      },
      "source": [
        "# choose a number of time steps\n",
        "n_steps_in, n_steps_out = 3, 2\n",
        "n_features = 1\n",
        "# split into samples\n",
        "trainX, trainY = split_sequence(train, n_steps_in, n_steps_out)\n",
        "testX, testY = split_sequence(test, n_steps_in, n_steps_out)\n",
        "# summarize the data\n",
        "for i in range(3):\n",
        "\tprint(testX[i], \"\\n Y: \"  ,testY[i])"
      ],
      "execution_count": null,
      "outputs": [
        {
          "output_type": "stream",
          "text": [
            "[[0.48455598]\n",
            " [0.61389961]\n",
            " [0.6969112 ]] \n",
            " Y:  [[0.7007722 ]\n",
            " [0.57915058]]\n",
            "[[0.61389961]\n",
            " [0.6969112 ]\n",
            " [0.7007722 ]] \n",
            " Y:  [[0.57915058]\n",
            " [0.46911197]]\n",
            "[[0.6969112 ]\n",
            " [0.7007722 ]\n",
            " [0.57915058]] \n",
            " Y:  [[0.46911197]\n",
            " [0.38803089]]\n"
          ],
          "name": "stdout"
        }
      ]
    },
    {
      "cell_type": "markdown",
      "metadata": {
        "id": "kGZNeFinO5NH"
      },
      "source": [
        "There are 2 (n_steps_out) predictions for each data point. Thus, we need to take the predicitons on each 'n_steps_out' step"
      ]
    },
    {
      "cell_type": "code",
      "metadata": {
        "colab": {
          "base_uri": "https://localhost:8080/"
        },
        "id": "d1fpognJO5NH",
        "outputId": "85139e9d-0ce4-4bcb-dac4-df667d0ca610"
      },
      "source": [
        "testY = testY[::n_steps_out]\n",
        "testX = testX[::n_steps_out]\n",
        "testY.shape,testX.shape,trainX.shape"
      ],
      "execution_count": null,
      "outputs": [
        {
          "output_type": "execute_result",
          "data": {
            "text/plain": [
              "((20, 2, 1), (20, 3, 1), (96, 3, 1))"
            ]
          },
          "metadata": {
            "tags": []
          },
          "execution_count": 48
        }
      ]
    },
    {
      "cell_type": "markdown",
      "metadata": {
        "id": "EE-cKoZ2O5NL"
      },
      "source": [
        "## Create the model"
      ]
    },
    {
      "cell_type": "code",
      "metadata": {
        "colab": {
          "base_uri": "https://localhost:8080/"
        },
        "id": "gitQRtsqpYaZ",
        "outputId": "0beca8ab-8b14-41da-c2c6-75cf821762ad"
      },
      "source": [
        "# define model\n",
        "def LSTM_model_many(imput_shape,num_neurons,n_steps_out):\n",
        "  _input = Input(shape=input_shape,dtype='float', name='m_input')\n",
        "  x = LSTM(num_neurons, activation='relu')(_input)\n",
        "  x= RepeatVector(n_steps_out)(x)\n",
        "  x = LSTM(num_neurons, activation='relu', return_sequences=True)(x)\n",
        "  output =Dense(1)(x)\n",
        "  my_model = Model(inputs=[_input], outputs=[output])\n",
        "  optimizer = optimizers.Adam()\n",
        "  my_model.compile(optimizer=optimizer,loss='mse')\n",
        "  return my_model\n",
        " \n",
        "num_features = trainX.shape[2]\n",
        "num_timestamps = trainX.shape[1]\n",
        "input_shape = (num_timestamps, num_features)\n",
        "num_neurons=100\n",
        "model = LSTM_model_many(input_shape,num_neurons,n_steps_out)\n",
        "model.summary()"
      ],
      "execution_count": null,
      "outputs": [
        {
          "output_type": "stream",
          "text": [
            "Model: \"functional_15\"\n",
            "_________________________________________________________________\n",
            "Layer (type)                 Output Shape              Param #   \n",
            "=================================================================\n",
            "m_input (InputLayer)         [(None, 3, 1)]            0         \n",
            "_________________________________________________________________\n",
            "lstm (LSTM)                  (None, 100)               40800     \n",
            "_________________________________________________________________\n",
            "repeat_vector (RepeatVector) (None, 2, 100)            0         \n",
            "_________________________________________________________________\n",
            "lstm_1 (LSTM)                (None, 2, 100)            80400     \n",
            "_________________________________________________________________\n",
            "dense_7 (Dense)              (None, 2, 1)              101       \n",
            "=================================================================\n",
            "Total params: 121,301\n",
            "Trainable params: 121,301\n",
            "Non-trainable params: 0\n",
            "_________________________________________________________________\n"
          ],
          "name": "stdout"
        }
      ]
    },
    {
      "cell_type": "code",
      "metadata": {
        "id": "p_XLF0W58Hjw"
      },
      "source": [
        "# train the mode\n",
        "model = LSTM_model_many(input_shape,num_neurons,n_steps_out)\n",
        "h=model.fit(trainX, trainY, epochs=100,  validation_data=(testX, testY),verbose=1)"
      ],
      "execution_count": null,
      "outputs": []
    },
    {
      "cell_type": "code",
      "metadata": {
        "colab": {
          "base_uri": "https://localhost:8080/",
          "height": 279
        },
        "id": "VvX41ygWScwF",
        "outputId": "d35e6def-ffa8-4391-a3d4-0aa5d953a713"
      },
      "source": [
        "# plot learning curves\n",
        "plt.plot(h.history['loss'],label='train_loss')\n",
        "plt.plot(h.history['val_loss'],label='validation_loss')\n",
        "plt.xlabel('Epoch')\n",
        "plt.ylabel('Loss')\n",
        "plt.show()"
      ],
      "execution_count": null,
      "outputs": [
        {
          "output_type": "display_data",
          "data": {
            "image/png": "[encoded data removed]",
            "text/plain": [
              "<Figure size 432x288 with 1 Axes>"
            ]
          },
          "metadata": {
            "tags": [],
            "needs_background": "light"
          }
        }
      ]
    },
    {
      "cell_type": "markdown",
      "metadata": {
        "id": "v0Z5jWWFO5NO"
      },
      "source": [
        "## Make the predictions"
      ]
    },
    {
      "cell_type": "code",
      "metadata": {
        "id": "-d2MpQCq8X0d"
      },
      "source": [
        "# make predictions\n",
        "trainPredict = model.predict(trainX)\n",
        "testPredict = model.predict(testX)"
      ],
      "execution_count": null,
      "outputs": []
    },
    {
      "cell_type": "markdown",
      "metadata": {
        "id": "9OKSFSRMO5NQ"
      },
      "source": [
        "## Reshape the predictions"
      ]
    },
    {
      "cell_type": "code",
      "metadata": {
        "id": "eX72m3ZW-zfk"
      },
      "source": [
        "\n",
        "# invert predictions from normalized values to real values for 1-step predictions\n",
        "trainPredict_1 = scaler.inverse_transform(trainPredict[:,0])\n",
        "trainY_1 = scaler.inverse_transform(trainY[:,0])\n",
        "testPredict_1 = scaler.inverse_transform(testPredict[:,0])\n",
        "testY_1 = scaler.inverse_transform(testY[:,0])\n",
        "\n",
        "\n",
        "# invert predictions from normalized values to real values for 2-step predictions\n",
        "trainPredict_2 = scaler.inverse_transform(trainPredict[:,1])\n",
        "trainY_2 = scaler.inverse_transform(trainY[:,1])\n",
        "testPredict_2 = scaler.inverse_transform(testPredict[:,1])\n",
        "testY_2 = scaler.inverse_transform(testY[:,1])"
      ],
      "execution_count": null,
      "outputs": []
    },
    {
      "cell_type": "markdown",
      "metadata": {
        "id": "Dbbx4f6EO5Nb"
      },
      "source": [
        "## Evaluation"
      ]
    },
    {
      "cell_type": "code",
      "metadata": {
        "colab": {
          "base_uri": "https://localhost:8080/"
        },
        "id": "2T7p5ike8gQH",
        "outputId": "d02dba61-9f84-4305-e1db-88ddb0d5ab73"
      },
      "source": [
        "# calculate and print evaluation metrics\n",
        "trainScore = math.sqrt(mean_squared_error(trainY_1[:,0], trainPredict_1[:,0]))\n",
        "print('1-step Train RMSE: %.2f RMSE' % (trainScore))\n",
        "\n",
        "testScore = math.sqrt(mean_squared_error(testY_1[:,0], testPredict_1[:,0]))\n",
        "print('1-step Test RMSE: %.2f RMSE' % (testScore))\n",
        "\n",
        "print('1-step Train MAE: %.2f MAE' % (mean_absolute_error(trainY_1[:,0], trainPredict_1[:,0])))\n",
        "print('1-step Test MAE: %.2f MAE' % (mean_absolute_error(testY_1[:,0], testPredict_1[:,0])))\n",
        "\n",
        "\n",
        "trainScore = math.sqrt(mean_squared_error(trainY_2[:,0], trainPredict_2[:,0]))\n",
        "print('\\n2-steps Train RMSE: %.2f RMSE' % (trainScore))\n",
        "\n",
        "testScore = math.sqrt(mean_squared_error(testY_2[:,0], testPredict_2[:,0]))\n",
        "print('2-steps Test RMSE: %.2f RMSE' % (testScore))\n",
        "\n",
        "print('2-steps Train MAE: %.2f MAE' % (mean_absolute_error(trainY_2[:,0], trainPredict_2[:,0])))\n",
        "print('2-steps Test MAE: %.2f MAE' % (mean_absolute_error(testY_2[:,0], testPredict_2[:,0])))"
      ],
      "execution_count": null,
      "outputs": [
        {
          "output_type": "stream",
          "text": [
            "1-step Train RMSE: 28.19 RMSE\n",
            "1-step Test RMSE: 60.02 RMSE\n",
            "1-step Train MAE: 21.98 MAE\n",
            "1-step Test MAE: 51.60 MAE\n",
            "\n",
            "2-steps Train RMSE: 36.22 RMSE\n",
            "2-steps Test RMSE: 96.71 RMSE\n",
            "2-steps Train MAE: 28.65 MAE\n",
            "2-steps Test MAE: 75.82 MAE\n"
          ],
          "name": "stdout"
        }
      ]
    },
    {
      "cell_type": "markdown",
      "metadata": {
        "id": "M2OlHft3O5Nm"
      },
      "source": [
        "# Many to Many - Multiple Features\n",
        "The data contains only one time-serie (number of passingers per month). How can we transform this data into a dataset that contains multiple features (time-series) for each timestep? \n",
        "Solution: Feature engieering :) (Yes, deep learning does not mean that feature engineering is not needed anymore)!\n",
        "\n",
        "Example feature that can be caluclated:\n",
        "    1. First derivative\n",
        "    2. Second derivative\n",
        "    3. Month of the year"
      ]
    },
    {
      "cell_type": "markdown",
      "metadata": {
        "id": "4WtIEISXh3uX"
      },
      "source": [
        "## Create a dataset with multiple features"
      ]
    },
    {
      "cell_type": "code",
      "metadata": {
        "colab": {
          "base_uri": "https://localhost:8080/",
          "height": 419
        },
        "id": "p3xJURZ-hYOn",
        "outputId": "55c3d58d-abca-4c66-8d31-5790a50ebc4b"
      },
      "source": [
        "#reload the dataset\n",
        "dataframe = pd.read_csv('/content/airline-passengers.csv')\n",
        "dataframe  "
      ],
      "execution_count": null,
      "outputs": [
        {
          "output_type": "execute_result",
          "data": {
            "text/html": [
              "<div>\n",
              "<style scoped>\n",
              "    .dataframe tbody tr th:only-of-type {\n",
              "        vertical-align: middle;\n",
              "    }\n",
              "\n",
              "    .dataframe tbody tr th {\n",
              "        vertical-align: top;\n",
              "    }\n",
              "\n",
              "    .dataframe thead th {\n",
              "        text-align: right;\n",
              "    }\n",
              "</style>\n",
              "<table border=\"1\" class=\"dataframe\">\n",
              "  <thead>\n",
              "    <tr style=\"text-align: right;\">\n",
              "      <th></th>\n",
              "      <th>Month</th>\n",
              "      <th>Passengers</th>\n",
              "    </tr>\n",
              "  </thead>\n",
              "  <tbody>\n",
              "    <tr>\n",
              "      <th>0</th>\n",
              "      <td>1949-01</td>\n",
              "      <td>112</td>\n",
              "    </tr>\n",
              "    <tr>\n",
              "      <th>1</th>\n",
              "      <td>1949-02</td>\n",
              "      <td>118</td>\n",
              "    </tr>\n",
              "    <tr>\n",
              "      <th>2</th>\n",
              "      <td>1949-03</td>\n",
              "      <td>132</td>\n",
              "    </tr>\n",
              "    <tr>\n",
              "      <th>3</th>\n",
              "      <td>1949-04</td>\n",
              "      <td>129</td>\n",
              "    </tr>\n",
              "    <tr>\n",
              "      <th>4</th>\n",
              "      <td>1949-05</td>\n",
              "      <td>121</td>\n",
              "    </tr>\n",
              "    <tr>\n",
              "      <th>...</th>\n",
              "      <td>...</td>\n",
              "      <td>...</td>\n",
              "    </tr>\n",
              "    <tr>\n",
              "      <th>139</th>\n",
              "      <td>1960-08</td>\n",
              "      <td>606</td>\n",
              "    </tr>\n",
              "    <tr>\n",
              "      <th>140</th>\n",
              "      <td>1960-09</td>\n",
              "      <td>508</td>\n",
              "    </tr>\n",
              "    <tr>\n",
              "      <th>141</th>\n",
              "      <td>1960-10</td>\n",
              "      <td>461</td>\n",
              "    </tr>\n",
              "    <tr>\n",
              "      <th>142</th>\n",
              "      <td>1960-11</td>\n",
              "      <td>390</td>\n",
              "    </tr>\n",
              "    <tr>\n",
              "      <th>143</th>\n",
              "      <td>1960-12</td>\n",
              "      <td>432</td>\n",
              "    </tr>\n",
              "  </tbody>\n",
              "</table>\n",
              "<p>144 rows × 2 columns</p>\n",
              "</div>"
            ],
            "text/plain": [
              "       Month  Passengers\n",
              "0    1949-01         112\n",
              "1    1949-02         118\n",
              "2    1949-03         132\n",
              "3    1949-04         129\n",
              "4    1949-05         121\n",
              "..       ...         ...\n",
              "139  1960-08         606\n",
              "140  1960-09         508\n",
              "141  1960-10         461\n",
              "142  1960-11         390\n",
              "143  1960-12         432\n",
              "\n",
              "[144 rows x 2 columns]"
            ]
          },
          "metadata": {
            "tags": []
          },
          "execution_count": 67
        }
      ]
    },
    {
      "cell_type": "code",
      "metadata": {
        "colab": {
          "base_uri": "https://localhost:8080/",
          "height": 450
        },
        "id": "6fm-3_gEhYOn",
        "outputId": "4d915b45-5aed-4d94-b90a-38b4c4da97c0"
      },
      "source": [
        "#reformat the dataframe to plot it as a date-time timeseries\n",
        "dataframe.Month  = pd.to_datetime(dataframe.Month, format='%Y-%m')\n",
        "dataframe.Passengers  = dataframe.Passengers.astype('float')\n",
        "dataframe = dataframe.set_index('Month') \n",
        "dataframe"
      ],
      "execution_count": null,
      "outputs": [
        {
          "output_type": "execute_result",
          "data": {
            "text/html": [
              "<div>\n",
              "<style scoped>\n",
              "    .dataframe tbody tr th:only-of-type {\n",
              "        vertical-align: middle;\n",
              "    }\n",
              "\n",
              "    .dataframe tbody tr th {\n",
              "        vertical-align: top;\n",
              "    }\n",
              "\n",
              "    .dataframe thead th {\n",
              "        text-align: right;\n",
              "    }\n",
              "</style>\n",
              "<table border=\"1\" class=\"dataframe\">\n",
              "  <thead>\n",
              "    <tr style=\"text-align: right;\">\n",
              "      <th></th>\n",
              "      <th>Passengers</th>\n",
              "    </tr>\n",
              "    <tr>\n",
              "      <th>Month</th>\n",
              "      <th></th>\n",
              "    </tr>\n",
              "  </thead>\n",
              "  <tbody>\n",
              "    <tr>\n",
              "      <th>1949-01-01</th>\n",
              "      <td>112.0</td>\n",
              "    </tr>\n",
              "    <tr>\n",
              "      <th>1949-02-01</th>\n",
              "      <td>118.0</td>\n",
              "    </tr>\n",
              "    <tr>\n",
              "      <th>1949-03-01</th>\n",
              "      <td>132.0</td>\n",
              "    </tr>\n",
              "    <tr>\n",
              "      <th>1949-04-01</th>\n",
              "      <td>129.0</td>\n",
              "    </tr>\n",
              "    <tr>\n",
              "      <th>1949-05-01</th>\n",
              "      <td>121.0</td>\n",
              "    </tr>\n",
              "    <tr>\n",
              "      <th>...</th>\n",
              "      <td>...</td>\n",
              "    </tr>\n",
              "    <tr>\n",
              "      <th>1960-08-01</th>\n",
              "      <td>606.0</td>\n",
              "    </tr>\n",
              "    <tr>\n",
              "      <th>1960-09-01</th>\n",
              "      <td>508.0</td>\n",
              "    </tr>\n",
              "    <tr>\n",
              "      <th>1960-10-01</th>\n",
              "      <td>461.0</td>\n",
              "    </tr>\n",
              "    <tr>\n",
              "      <th>1960-11-01</th>\n",
              "      <td>390.0</td>\n",
              "    </tr>\n",
              "    <tr>\n",
              "      <th>1960-12-01</th>\n",
              "      <td>432.0</td>\n",
              "    </tr>\n",
              "  </tbody>\n",
              "</table>\n",
              "<p>144 rows × 1 columns</p>\n",
              "</div>"
            ],
            "text/plain": [
              "            Passengers\n",
              "Month                 \n",
              "1949-01-01       112.0\n",
              "1949-02-01       118.0\n",
              "1949-03-01       132.0\n",
              "1949-04-01       129.0\n",
              "1949-05-01       121.0\n",
              "...                ...\n",
              "1960-08-01       606.0\n",
              "1960-09-01       508.0\n",
              "1960-10-01       461.0\n",
              "1960-11-01       390.0\n",
              "1960-12-01       432.0\n",
              "\n",
              "[144 rows x 1 columns]"
            ]
          },
          "metadata": {
            "tags": []
          },
          "execution_count": 68
        }
      ]
    },
    {
      "cell_type": "code",
      "metadata": {
        "colab": {
          "base_uri": "https://localhost:8080/",
          "height": 242
        },
        "id": "8kFDg-9PhYOn",
        "outputId": "3f81b43a-9e94-49a7-dcdb-077f04aa1026"
      },
      "source": [
        "# plot the dataset\n",
        "dataframe.plot(figsize = (18,3))"
      ],
      "execution_count": null,
      "outputs": [
        {
          "output_type": "execute_result",
          "data": {
            "text/plain": [
              "<matplotlib.axes._subplots.AxesSubplot at 0x7f7a617e7198>"
            ]
          },
          "metadata": {
            "tags": []
          },
          "execution_count": 69
        },
        {
          "output_type": "display_data",
          "data": {
            "image/png": "[encoded data removed]",
            "text/plain": [
              "<Figure size 1296x216 with 1 Axes>"
            ]
          },
          "metadata": {
            "tags": [],
            "needs_background": "light"
          }
        }
      ]
    },
    {
      "cell_type": "code",
      "metadata": {
        "id": "hIqf-KSVhYOn"
      },
      "source": [
        "#calculate first derivative and second derivative\n",
        "derivative_1 = dataframe.Passengers.diff()\n",
        "derivative_2 = dataframe.Passengers.diff().diff()\n",
        "# add them to the dataframe\n",
        "derivative_1\n",
        "dataframe['deriv_1'] = derivative_1\n",
        "dataframe['deriv_2'] = derivative_2\n",
        "dataframe.fillna(0,inplace=True)\n"
      ],
      "execution_count": null,
      "outputs": []
    },
    {
      "cell_type": "markdown",
      "metadata": {
        "id": "Dh3L_PBJiCI5"
      },
      "source": [
        "##Vizualize the dataset"
      ]
    },
    {
      "cell_type": "code",
      "metadata": {
        "id": "wM0-jTothYOo"
      },
      "source": [
        "#calculate month of the year\n",
        "date_list = dataframe.index.values\n",
        "month_list = []\n",
        "for date in date_list:\n",
        "    #print(int(str(date).split('-')[1]))\n",
        "    month_list.append(int(str(date).split('-')[1]))\n",
        "    \n",
        "dataframe['month'] =month_list"
      ],
      "execution_count": null,
      "outputs": []
    },
    {
      "cell_type": "code",
      "metadata": {
        "colab": {
          "base_uri": "https://localhost:8080/",
          "height": 242
        },
        "id": "P_DVs-gJhYOo",
        "outputId": "7a5bb3c8-1997-4b03-91c2-69fed5b6d843"
      },
      "source": [
        "# plot the dataset\n",
        "dataframe.plot(figsize = (18,3))"
      ],
      "execution_count": null,
      "outputs": [
        {
          "output_type": "execute_result",
          "data": {
            "text/plain": [
              "<matplotlib.axes._subplots.AxesSubplot at 0x7f7a6152c860>"
            ]
          },
          "metadata": {
            "tags": []
          },
          "execution_count": 72
        },
        {
          "output_type": "display_data",
          "data": {
            "image/png": "[encoded data removed]",
            "text/plain": [
              "<Figure size 1296x216 with 1 Axes>"
            ]
          },
          "metadata": {
            "tags": [],
            "needs_background": "light"
          }
        }
      ]
    },
    {
      "cell_type": "code",
      "metadata": {
        "colab": {
          "base_uri": "https://localhost:8080/",
          "height": 613
        },
        "id": "nyFps_TFhYOo",
        "outputId": "0f116bb2-7ab9-4b59-e560-dc4945c645f0"
      },
      "source": [
        "#plot histogram of Passengers per month\"\n",
        "dataframe.Passengers.hist(by=dataframe['month'],figsize=(18,10))\n",
        "plt.show()\n"
      ],
      "execution_count": null,
      "outputs": [
        {
          "output_type": "display_data",
          "data": {
            "image/png": "[encoded data removed]",
            "text/plain": [
              "<Figure size 1296x720 with 12 Axes>"
            ]
          },
          "metadata": {
            "tags": [],
            "needs_background": "light"
          }
        }
      ]
    },
    {
      "cell_type": "markdown",
      "metadata": {
        "id": "SWlHUvb1iNPz"
      },
      "source": [
        "##Reshape, split and normalize "
      ]
    },
    {
      "cell_type": "code",
      "metadata": {
        "id": "rYDshG7HhYOo"
      },
      "source": [
        "# split  into samples\n",
        "def split_multivariate_sequence(sequence, n_steps_in, n_steps_out):\n",
        "\tX, y = [], []\n",
        "\tfor i in range(len(sequence)):\n",
        "\t\t# find the end of this pattern\n",
        "\t\tend_ix = i + n_steps_in\n",
        "\t\tout_end_ix = end_ix + n_steps_out\n",
        "\t\t# check if we are beyond the sequence\n",
        "\t\tif out_end_ix > len(sequence):\n",
        "\t\t\tbreak\n",
        "\t\t# gather input and output parts of the pattern\n",
        "\t\tseq_x, seq_y = sequence[i:end_ix], sequence[end_ix:out_end_ix,0]\n",
        "\t\tX.append(seq_x)\n",
        "\t\ty.append(seq_y)\n",
        "\treturn np.array(X), np.array(y)"
      ],
      "execution_count": null,
      "outputs": []
    },
    {
      "cell_type": "code",
      "metadata": {
        "colab": {
          "base_uri": "https://localhost:8080/"
        },
        "id": "IZCw9j8ShYOp",
        "outputId": "bc1bfd59-ed38-4702-d9ed-09b7c84dccc4"
      },
      "source": [
        "# normalize the dataset\n",
        "X = dataframe.values.astype('float')\n",
        "\n",
        "scaler = MinMaxScaler(feature_range=(0, 1))\n",
        "X = scaler.fit_transform(X)\n",
        "X.shape"
      ],
      "execution_count": null,
      "outputs": [
        {
          "output_type": "execute_result",
          "data": {
            "text/plain": [
              "(144, 4)"
            ]
          },
          "metadata": {
            "tags": []
          },
          "execution_count": 77
        }
      ]
    },
    {
      "cell_type": "code",
      "metadata": {
        "colab": {
          "base_uri": "https://localhost:8080/"
        },
        "id": "VFjBro0ThYOp",
        "outputId": "f1692cb3-1944-42ef-b424-83e2793ba6ce"
      },
      "source": [
        "\n",
        "# split into train and test sets. Use first 70% of the data as trianing and last 30% as test\n",
        "train_size = int(len(X) * 0.7)\n",
        "test_size = len(X) - train_size\n",
        "train, test = X[:train_size,:], X[train_size:len(X),:]\n",
        "train.shape, test.shape"
      ],
      "execution_count": null,
      "outputs": [
        {
          "output_type": "execute_result",
          "data": {
            "text/plain": [
              "((100, 4), (44, 4))"
            ]
          },
          "metadata": {
            "tags": []
          },
          "execution_count": 78
        }
      ]
    },
    {
      "cell_type": "code",
      "metadata": {
        "colab": {
          "base_uri": "https://localhost:8080/"
        },
        "id": "5z6geTTfhYOp",
        "outputId": "247c3c9d-f83e-488f-9cba-0cd7bdd8170c"
      },
      "source": [
        "#split to train and test \n",
        "look_back = 3\n",
        "n_steps_out = 2\n",
        "trainX,trainY = split_multivariate_sequence(train,look_back,n_steps_out)\n",
        "testX,testY = split_multivariate_sequence(test,look_back,n_steps_out)\n",
        "\n",
        "trainX.shape,trainY.shape ,testX.shape,testY.shape"
      ],
      "execution_count": null,
      "outputs": [
        {
          "output_type": "execute_result",
          "data": {
            "text/plain": [
              "((96, 3, 4), (96, 2), (40, 3, 4), (40, 2))"
            ]
          },
          "metadata": {
            "tags": []
          },
          "execution_count": 79
        }
      ]
    },
    {
      "cell_type": "markdown",
      "metadata": {
        "id": "CQLkxt6bidjm"
      },
      "source": [
        "##Model definition, training and evaluation"
      ]
    },
    {
      "cell_type": "code",
      "metadata": {
        "scrolled": true,
        "colab": {
          "base_uri": "https://localhost:8080/"
        },
        "id": "J8LXd_ShhYOp",
        "outputId": "e633f18d-1a5a-4d60-9bd2-b920cb4c6931"
      },
      "source": [
        "# define model\n",
        "from keras.layers import GRU\n",
        "def LSTM_model_many(imput_shape,num_neurons,n_steps_out):\n",
        "  _input = Input(shape=input_shape,dtype='float', name='m_input')\n",
        "  x = GRU(num_neurons, activation='relu')(_input)\n",
        "  x= RepeatVector(n_steps_out)(x)\n",
        "  x = GRU(num_neurons, activation='relu', return_sequences=True)(x)\n",
        "  output =Dense(1)(x)\n",
        "  my_model = Model(inputs=[_input], outputs=[output])\n",
        "  optimizer = optimizers.Adam()\n",
        "  my_model.compile(optimizer=optimizer,loss='mse')\n",
        "  return my_model\n",
        " \n",
        "num_features = trainX.shape[2]\n",
        "num_timestamps = trainX.shape[1]\n",
        "input_shape = (num_timestamps, num_features)\n",
        "num_neurons=500\n",
        "model = LSTM_model_many(input_shape,num_neurons,n_steps_out)\n",
        "model.summary()"
      ],
      "execution_count": null,
      "outputs": [
        {
          "output_type": "stream",
          "text": [
            "Model: \"functional_31\"\n",
            "_________________________________________________________________\n",
            "Layer (type)                 Output Shape              Param #   \n",
            "=================================================================\n",
            "m_input (InputLayer)         [(None, 3, 4)]            0         \n",
            "_________________________________________________________________\n",
            "gru_6 (GRU)                  (None, 500)               759000    \n",
            "_________________________________________________________________\n",
            "repeat_vector_8 (RepeatVecto (None, 2, 500)            0         \n",
            "_________________________________________________________________\n",
            "gru_7 (GRU)                  (None, 2, 500)            1503000   \n",
            "_________________________________________________________________\n",
            "dense_15 (Dense)             (None, 2, 1)              501       \n",
            "=================================================================\n",
            "Total params: 2,262,501\n",
            "Trainable params: 2,262,501\n",
            "Non-trainable params: 0\n",
            "_________________________________________________________________\n"
          ],
          "name": "stdout"
        }
      ]
    },
    {
      "cell_type": "code",
      "metadata": {
        "colab": {
          "base_uri": "https://localhost:8080/"
        },
        "id": "F92A6_gchYOp",
        "outputId": "a4906cbb-83e1-40de-c37d-0ae70623c14a"
      },
      "source": [
        "# train the model\n",
        "model = LSTM_model_many(input_shape,num_neurons,n_steps_out)\n",
        "h=model.fit(trainX, trainY, batch_size=10,epochs=100,  validation_data=(testX, testY),verbose=1)"
      ],
      "execution_count": null,
      "outputs": [
        {
          "output_type": "stream",
          "text": [
            "Epoch 1/100\n",
            "10/10 [==============================] - 1s 68ms/step - loss: 0.0291 - val_loss: 0.1461\n",
            "Epoch 2/100\n",
            "10/10 [==============================] - 0s 39ms/step - loss: 0.0136 - val_loss: 0.0359\n",
            "Epoch 3/100\n",
            "10/10 [==============================] - 0s 39ms/step - loss: 0.0094 - val_loss: 0.0330\n",
            "Epoch 4/100\n",
            "10/10 [==============================] - 0s 42ms/step - loss: 0.0044 - val_loss: 0.0167\n",
            "Epoch 5/100\n",
            "10/10 [==============================] - 0s 37ms/step - loss: 0.0041 - val_loss: 0.0146\n",
            "Epoch 6/100\n",
            "10/10 [==============================] - 0s 39ms/step - loss: 0.0031 - val_loss: 0.0119\n",
            "Epoch 7/100\n",
            "10/10 [==============================] - 0s 39ms/step - loss: 0.0024 - val_loss: 0.0115\n",
            "Epoch 8/100\n",
            "10/10 [==============================] - 0s 38ms/step - loss: 0.0024 - val_loss: 0.0112\n",
            "Epoch 9/100\n",
            "10/10 [==============================] - 0s 37ms/step - loss: 0.0023 - val_loss: 0.0105\n",
            "Epoch 10/100\n",
            "10/10 [==============================] - 0s 38ms/step - loss: 0.0026 - val_loss: 0.0102\n",
            "Epoch 11/100\n",
            "10/10 [==============================] - 0s 39ms/step - loss: 0.0029 - val_loss: 0.0098\n",
            "Epoch 12/100\n",
            "10/10 [==============================] - 0s 37ms/step - loss: 0.0025 - val_loss: 0.0097\n",
            "Epoch 13/100\n",
            "10/10 [==============================] - 0s 38ms/step - loss: 0.0018 - val_loss: 0.0090\n",
            "Epoch 14/100\n",
            "10/10 [==============================] - 0s 37ms/step - loss: 0.0016 - val_loss: 0.0086\n",
            "Epoch 15/100\n",
            "10/10 [==============================] - 0s 40ms/step - loss: 0.0017 - val_loss: 0.0082\n",
            "Epoch 16/100\n",
            "10/10 [==============================] - 0s 39ms/step - loss: 0.0015 - val_loss: 0.0087\n",
            "Epoch 17/100\n",
            "10/10 [==============================] - 0s 39ms/step - loss: 0.0013 - val_loss: 0.0076\n",
            "Epoch 18/100\n",
            "10/10 [==============================] - 0s 39ms/step - loss: 0.0012 - val_loss: 0.0074\n",
            "Epoch 19/100\n",
            "10/10 [==============================] - 0s 38ms/step - loss: 0.0013 - val_loss: 0.0091\n",
            "Epoch 20/100\n",
            "10/10 [==============================] - 0s 38ms/step - loss: 0.0012 - val_loss: 0.0067\n",
            "Epoch 21/100\n",
            "10/10 [==============================] - 0s 38ms/step - loss: 0.0012 - val_loss: 0.0070\n",
            "Epoch 22/100\n",
            "10/10 [==============================] - 0s 39ms/step - loss: 0.0012 - val_loss: 0.0075\n",
            "Epoch 23/100\n",
            "10/10 [==============================] - 0s 38ms/step - loss: 0.0012 - val_loss: 0.0062\n",
            "Epoch 24/100\n",
            "10/10 [==============================] - 0s 38ms/step - loss: 9.2958e-04 - val_loss: 0.0064\n",
            "Epoch 25/100\n",
            "10/10 [==============================] - 0s 39ms/step - loss: 8.0559e-04 - val_loss: 0.0063\n",
            "Epoch 26/100\n",
            "10/10 [==============================] - 0s 38ms/step - loss: 9.9896e-04 - val_loss: 0.0056\n",
            "Epoch 27/100\n",
            "10/10 [==============================] - 0s 42ms/step - loss: 8.9561e-04 - val_loss: 0.0056\n",
            "Epoch 28/100\n",
            "10/10 [==============================] - 0s 41ms/step - loss: 9.7418e-04 - val_loss: 0.0055\n",
            "Epoch 29/100\n",
            "10/10 [==============================] - 0s 40ms/step - loss: 7.1467e-04 - val_loss: 0.0049\n",
            "Epoch 30/100\n",
            "10/10 [==============================] - 0s 40ms/step - loss: 7.8268e-04 - val_loss: 0.0057\n",
            "Epoch 31/100\n",
            "10/10 [==============================] - 0s 40ms/step - loss: 0.0011 - val_loss: 0.0050\n",
            "Epoch 32/100\n",
            "10/10 [==============================] - 0s 41ms/step - loss: 0.0011 - val_loss: 0.0052\n",
            "Epoch 33/100\n",
            "10/10 [==============================] - 0s 38ms/step - loss: 7.5837e-04 - val_loss: 0.0050\n",
            "Epoch 34/100\n",
            "10/10 [==============================] - 0s 41ms/step - loss: 7.1467e-04 - val_loss: 0.0048\n",
            "Epoch 35/100\n",
            "10/10 [==============================] - 0s 38ms/step - loss: 7.5097e-04 - val_loss: 0.0045\n",
            "Epoch 36/100\n",
            "10/10 [==============================] - 0s 38ms/step - loss: 7.1150e-04 - val_loss: 0.0038\n",
            "Epoch 37/100\n",
            "10/10 [==============================] - 0s 39ms/step - loss: 5.7301e-04 - val_loss: 0.0047\n",
            "Epoch 38/100\n",
            "10/10 [==============================] - 0s 37ms/step - loss: 7.0187e-04 - val_loss: 0.0041\n",
            "Epoch 39/100\n",
            "10/10 [==============================] - 0s 39ms/step - loss: 9.4469e-04 - val_loss: 0.0042\n",
            "Epoch 40/100\n",
            "10/10 [==============================] - 0s 40ms/step - loss: 6.9088e-04 - val_loss: 0.0051\n",
            "Epoch 41/100\n",
            "10/10 [==============================] - 0s 39ms/step - loss: 7.1829e-04 - val_loss: 0.0039\n",
            "Epoch 42/100\n",
            "10/10 [==============================] - 0s 38ms/step - loss: 6.6000e-04 - val_loss: 0.0043\n",
            "Epoch 43/100\n",
            "10/10 [==============================] - 0s 40ms/step - loss: 7.6395e-04 - val_loss: 0.0040\n",
            "Epoch 44/100\n",
            "10/10 [==============================] - 0s 40ms/step - loss: 7.7158e-04 - val_loss: 0.0037\n",
            "Epoch 45/100\n",
            "10/10 [==============================] - 0s 37ms/step - loss: 5.9153e-04 - val_loss: 0.0045\n",
            "Epoch 46/100\n",
            "10/10 [==============================] - 0s 39ms/step - loss: 6.8138e-04 - val_loss: 0.0035\n",
            "Epoch 47/100\n",
            "10/10 [==============================] - 0s 39ms/step - loss: 5.2978e-04 - val_loss: 0.0037\n",
            "Epoch 48/100\n",
            "10/10 [==============================] - 0s 39ms/step - loss: 4.4175e-04 - val_loss: 0.0034\n",
            "Epoch 49/100\n",
            "10/10 [==============================] - 0s 39ms/step - loss: 4.5007e-04 - val_loss: 0.0030\n",
            "Epoch 50/100\n",
            "10/10 [==============================] - 0s 40ms/step - loss: 5.1985e-04 - val_loss: 0.0036\n",
            "Epoch 51/100\n",
            "10/10 [==============================] - 0s 41ms/step - loss: 4.8723e-04 - val_loss: 0.0032\n",
            "Epoch 52/100\n",
            "10/10 [==============================] - 0s 38ms/step - loss: 4.2923e-04 - val_loss: 0.0031\n",
            "Epoch 53/100\n",
            "10/10 [==============================] - 0s 40ms/step - loss: 3.8856e-04 - val_loss: 0.0030\n",
            "Epoch 54/100\n",
            "10/10 [==============================] - 0s 38ms/step - loss: 4.0638e-04 - val_loss: 0.0030\n",
            "Epoch 55/100\n",
            "10/10 [==============================] - 0s 42ms/step - loss: 6.8872e-04 - val_loss: 0.0043\n",
            "Epoch 56/100\n",
            "10/10 [==============================] - 0s 37ms/step - loss: 6.7389e-04 - val_loss: 0.0030\n",
            "Epoch 57/100\n",
            "10/10 [==============================] - 0s 38ms/step - loss: 5.8875e-04 - val_loss: 0.0032\n",
            "Epoch 58/100\n",
            "10/10 [==============================] - 0s 39ms/step - loss: 5.4539e-04 - val_loss: 0.0029\n",
            "Epoch 59/100\n",
            "10/10 [==============================] - 0s 38ms/step - loss: 6.1527e-04 - val_loss: 0.0034\n",
            "Epoch 60/100\n",
            "10/10 [==============================] - 0s 40ms/step - loss: 5.3204e-04 - val_loss: 0.0030\n",
            "Epoch 61/100\n",
            "10/10 [==============================] - 0s 38ms/step - loss: 4.2939e-04 - val_loss: 0.0027\n",
            "Epoch 62/100\n",
            "10/10 [==============================] - 0s 40ms/step - loss: 4.3146e-04 - val_loss: 0.0033\n",
            "Epoch 63/100\n",
            "10/10 [==============================] - 0s 38ms/step - loss: 4.3992e-04 - val_loss: 0.0025\n",
            "Epoch 64/100\n",
            "10/10 [==============================] - 0s 39ms/step - loss: 4.1286e-04 - val_loss: 0.0032\n",
            "Epoch 65/100\n",
            "10/10 [==============================] - 0s 39ms/step - loss: 3.8118e-04 - val_loss: 0.0028\n",
            "Epoch 66/100\n",
            "10/10 [==============================] - 0s 39ms/step - loss: 4.8643e-04 - val_loss: 0.0044\n",
            "Epoch 67/100\n",
            "10/10 [==============================] - 0s 40ms/step - loss: 4.6454e-04 - val_loss: 0.0026\n",
            "Epoch 68/100\n",
            "10/10 [==============================] - 0s 38ms/step - loss: 4.0524e-04 - val_loss: 0.0035\n",
            "Epoch 69/100\n",
            "10/10 [==============================] - 0s 39ms/step - loss: 5.3828e-04 - val_loss: 0.0022\n",
            "Epoch 70/100\n",
            "10/10 [==============================] - 0s 40ms/step - loss: 5.0304e-04 - val_loss: 0.0037\n",
            "Epoch 71/100\n",
            "10/10 [==============================] - 0s 38ms/step - loss: 4.0932e-04 - val_loss: 0.0024\n",
            "Epoch 72/100\n",
            "10/10 [==============================] - 0s 39ms/step - loss: 3.9238e-04 - val_loss: 0.0033\n",
            "Epoch 73/100\n",
            "10/10 [==============================] - 0s 40ms/step - loss: 6.0648e-04 - val_loss: 0.0030\n",
            "Epoch 74/100\n",
            "10/10 [==============================] - 0s 40ms/step - loss: 4.0431e-04 - val_loss: 0.0025\n",
            "Epoch 75/100\n",
            "10/10 [==============================] - 0s 40ms/step - loss: 3.9191e-04 - val_loss: 0.0027\n",
            "Epoch 76/100\n",
            "10/10 [==============================] - 0s 41ms/step - loss: 3.2353e-04 - val_loss: 0.0025\n",
            "Epoch 77/100\n",
            "10/10 [==============================] - 0s 39ms/step - loss: 2.9802e-04 - val_loss: 0.0026\n",
            "Epoch 78/100\n",
            "10/10 [==============================] - 0s 39ms/step - loss: 3.4337e-04 - val_loss: 0.0023\n",
            "Epoch 79/100\n",
            "10/10 [==============================] - 0s 38ms/step - loss: 3.1490e-04 - val_loss: 0.0033\n",
            "Epoch 80/100\n",
            "10/10 [==============================] - 0s 38ms/step - loss: 3.4799e-04 - val_loss: 0.0023\n",
            "Epoch 81/100\n",
            "10/10 [==============================] - 0s 40ms/step - loss: 3.6914e-04 - val_loss: 0.0036\n",
            "Epoch 82/100\n",
            "10/10 [==============================] - 0s 39ms/step - loss: 3.9460e-04 - val_loss: 0.0024\n",
            "Epoch 83/100\n",
            "10/10 [==============================] - 0s 39ms/step - loss: 4.1380e-04 - val_loss: 0.0032\n",
            "Epoch 84/100\n",
            "10/10 [==============================] - 0s 38ms/step - loss: 3.9298e-04 - val_loss: 0.0026\n",
            "Epoch 85/100\n",
            "10/10 [==============================] - 0s 39ms/step - loss: 3.8609e-04 - val_loss: 0.0027\n",
            "Epoch 86/100\n",
            "10/10 [==============================] - 0s 39ms/step - loss: 4.3838e-04 - val_loss: 0.0032\n",
            "Epoch 87/100\n",
            "10/10 [==============================] - 0s 40ms/step - loss: 4.1030e-04 - val_loss: 0.0027\n",
            "Epoch 88/100\n",
            "10/10 [==============================] - 0s 40ms/step - loss: 3.7039e-04 - val_loss: 0.0022\n",
            "Epoch 89/100\n",
            "10/10 [==============================] - 0s 38ms/step - loss: 3.7497e-04 - val_loss: 0.0031\n",
            "Epoch 90/100\n",
            "10/10 [==============================] - 0s 40ms/step - loss: 4.7645e-04 - val_loss: 0.0026\n",
            "Epoch 91/100\n",
            "10/10 [==============================] - 0s 40ms/step - loss: 3.7411e-04 - val_loss: 0.0025\n",
            "Epoch 92/100\n",
            "10/10 [==============================] - 0s 39ms/step - loss: 3.0318e-04 - val_loss: 0.0030\n",
            "Epoch 93/100\n",
            "10/10 [==============================] - 0s 38ms/step - loss: 2.7323e-04 - val_loss: 0.0023\n",
            "Epoch 94/100\n",
            "10/10 [==============================] - 0s 38ms/step - loss: 3.3109e-04 - val_loss: 0.0024\n",
            "Epoch 95/100\n",
            "10/10 [==============================] - 0s 40ms/step - loss: 2.9246e-04 - val_loss: 0.0030\n",
            "Epoch 96/100\n",
            "10/10 [==============================] - 0s 38ms/step - loss: 3.6582e-04 - val_loss: 0.0023\n",
            "Epoch 97/100\n",
            "10/10 [==============================] - 0s 42ms/step - loss: 3.9651e-04 - val_loss: 0.0026\n",
            "Epoch 98/100\n",
            "10/10 [==============================] - 0s 40ms/step - loss: 5.8545e-04 - val_loss: 0.0022\n",
            "Epoch 99/100\n",
            "10/10 [==============================] - 0s 39ms/step - loss: 3.4130e-04 - val_loss: 0.0025\n",
            "Epoch 100/100\n",
            "10/10 [==============================] - 0s 37ms/step - loss: 4.1168e-04 - val_loss: 0.0039\n"
          ],
          "name": "stdout"
        }
      ]
    },
    {
      "cell_type": "code",
      "metadata": {
        "colab": {
          "base_uri": "https://localhost:8080/",
          "height": 279
        },
        "id": "UKuX5fghhYOq",
        "outputId": "9bc55ef7-88d3-4b6c-fafb-bdd1be1aa734"
      },
      "source": [
        "# plot the learning curves\n",
        "plt.plot(h.history['loss'],label='train_loss')\n",
        "plt.plot(h.history['val_loss'],label='validation_loss')\n",
        "plt.xlabel('Epoch')\n",
        "plt.ylabel('Loss')\n",
        "plt.show()"
      ],
      "execution_count": null,
      "outputs": [
        {
          "output_type": "display_data",
          "data": {
            "image/png": "[encoded data removed]",
            "text/plain": [
              "<Figure size 432x288 with 1 Axes>"
            ]
          },
          "metadata": {
            "tags": [],
            "needs_background": "light"
          }
        }
      ]
    },
    {
      "cell_type": "code",
      "metadata": {
        "colab": {
          "base_uri": "https://localhost:8080/"
        },
        "id": "v57vLkmjhYOq",
        "outputId": "c6cbb7f0-dacd-471f-82e0-936552f87ab8"
      },
      "source": [
        "# make predictions\n",
        "trainPredict = model.predict(trainX)\n",
        "testPredict = model.predict(testX)"
      ],
      "execution_count": null,
      "outputs": [
        {
          "output_type": "stream",
          "text": [
            "WARNING:tensorflow:5 out of the last 10 calls to <function Model.make_predict_function.<locals>.predict_function at 0x7f7a60135268> triggered tf.function retracing. Tracing is expensive and the excessive number of tracings could be due to (1) creating @tf.function repeatedly in a loop, (2) passing tensors with different shapes, (3) passing Python objects instead of tensors. For (1), please define your @tf.function outside of the loop. For (2), @tf.function has experimental_relax_shapes=True option that relaxes argument shapes that can avoid unnecessary retracing. For (3), please refer to https://www.tensorflow.org/tutorials/customization/performance#python_or_tensor_args and https://www.tensorflow.org/api_docs/python/tf/function for  more details.\n",
            "WARNING:tensorflow:6 out of the last 13 calls to <function Model.make_predict_function.<locals>.predict_function at 0x7f7a60135268> triggered tf.function retracing. Tracing is expensive and the excessive number of tracings could be due to (1) creating @tf.function repeatedly in a loop, (2) passing tensors with different shapes, (3) passing Python objects instead of tensors. For (1), please define your @tf.function outside of the loop. For (2), @tf.function has experimental_relax_shapes=True option that relaxes argument shapes that can avoid unnecessary retracing. For (3), please refer to https://www.tensorflow.org/tutorials/customization/performance#python_or_tensor_args and https://www.tensorflow.org/api_docs/python/tf/function for  more details.\n"
          ],
          "name": "stdout"
        }
      ]
    },
    {
      "cell_type": "markdown",
      "metadata": {
        "id": "S8eqwalKilSf"
      },
      "source": [
        "##Vizualize predictions"
      ]
    },
    {
      "cell_type": "code",
      "metadata": {
        "id": "9Tc-I2FmhYOq"
      },
      "source": [
        "\n",
        "# invert predictions from normalized values to real values for 1-step predictions\n",
        "#the scaler expect the same input_shape as the one uset to fit it (num_instances,num_features)\n",
        "#however, we need to rescale only the predictions, so we will use a temporary variable (tmp) to match the required shape\n",
        "tmp = np.column_stack(np.repeat(trainPredict[:,0],4).reshape(len(trainPredict),4).T)\n",
        "\n",
        "#now we can use the scaler\n",
        "trainPredict_1 = scaler.inverse_transform(tmp)[:,0]\n",
        "\n",
        "#the same procedure is required for all variables that we would like to rescale\n",
        "tmp = np.column_stack(np.repeat(trainY[:,0],4).reshape(len(trainY),4).T)\n",
        "trainY_1 = scaler.inverse_transform(tmp)[:,0]\n",
        "\n",
        "tmp = np.column_stack(np.repeat(testPredict[:,0],4).reshape(len(testPredict),4).T)\n",
        "testPredict_1 = scaler.inverse_transform(tmp)[:,0]\n",
        "\n",
        "tmp = np.column_stack(np.repeat(testY[:,0],4).reshape(len(testY),4).T)\n",
        "testY_1 = scaler.inverse_transform(tmp)[:,0]\n",
        "\n",
        "\n",
        "# invert predictions from normalized values to real values for 2-step predictions\n",
        "tmp = np.column_stack(np.repeat(trainPredict[:,1],4).reshape(len(trainPredict),4).T)\n",
        "trainPredict_2 = scaler.inverse_transform(tmp)[:,0]\n",
        "\n",
        "tmp = np.column_stack(np.repeat(trainY[:,1],4).reshape(len(trainY),4).T)\n",
        "trainY_2 = scaler.inverse_transform(tmp)[:,0]\n",
        "\n",
        "tmp = np.column_stack(np.repeat(testPredict[:,1],4).reshape(len(testPredict),4).T)\n",
        "testPredict_2 = scaler.inverse_transform(tmp)[:,0]\n",
        "\n",
        "tmp = np.column_stack(np.repeat(testY[:,1],4).reshape(len(testY),4).T)\n",
        "testY_2 = scaler.inverse_transform(tmp)[:,0]"
      ],
      "execution_count": null,
      "outputs": []
    },
    {
      "cell_type": "code",
      "metadata": {
        "colab": {
          "base_uri": "https://localhost:8080/"
        },
        "id": "Yiwnytb9hYOq",
        "outputId": "daa3634d-9f86-4dfc-bfd2-837b7c31c9d6"
      },
      "source": [
        "# calculate and print evaluation metrics\n",
        "trainScore = math.sqrt(mean_squared_error(trainY_1, trainPredict_1))\n",
        "print('1-step Train RMSE: %.2f RMSE' % (trainScore))\n",
        "\n",
        "testScore = math.sqrt(mean_squared_error(testY_1, testPredict_1))\n",
        "print('1-step Test RMSE: %.2f RMSE' % (testScore))\n",
        "\n",
        "print('1-step Train MAE: %.2f MAE' % (mean_absolute_error(trainY_1, trainPredict_1)))\n",
        "print('1-step Test MAE: %.2f MAE' % (mean_absolute_error(testY_1, testPredict_1)))\n",
        "\n",
        "\n",
        "trainScore = math.sqrt(mean_squared_error(trainY_2, trainPredict_2))\n",
        "print('\\n2-steps Train RMSE: %.2f RMSE' % (trainScore))\n",
        "\n",
        "testScore = math.sqrt(mean_squared_error(testY_2, testPredict_2))\n",
        "print('2-steps Test RMSE: %.2f RMSE' % (testScore))\n",
        "\n",
        "print('2-steps Train MAE: %.2f MAE' % (mean_absolute_error(trainY_2, trainPredict_2)))\n",
        "print('2-steps Test MAE: %.2f MAE' % (mean_absolute_error(testY_2, testPredict_2)))"
      ],
      "execution_count": null,
      "outputs": [
        {
          "output_type": "stream",
          "text": [
            "1-step Train RMSE: 8.96 RMSE\n",
            "1-step Test RMSE: 23.78 RMSE\n",
            "1-step Train MAE: 7.21 MAE\n",
            "1-step Test MAE: 18.82 MAE\n",
            "\n",
            "2-steps Train RMSE: 12.34 RMSE\n",
            "2-steps Test RMSE: 39.01 RMSE\n",
            "2-steps Train MAE: 10.28 MAE\n",
            "2-steps Test MAE: 27.21 MAE\n"
          ],
          "name": "stdout"
        }
      ]
    },
    {
      "cell_type": "code",
      "metadata": {
        "id": "q8_EI-GGhYOr"
      },
      "source": [
        "#plot predictions\n",
        "dataframe['1-step-train_pred']=np.nan\n",
        "dataframe['2-step-test_pred']=np.nan\n"
      ],
      "execution_count": null,
      "outputs": []
    },
    {
      "cell_type": "code",
      "metadata": {
        "id": "SWKHx_7DhYOr"
      },
      "source": [
        "\n",
        "dataframe.iloc[look_back:look_back+len(trainPredict_1),4]= trainPredict_1\n",
        "dataframe.iloc[-len(testPredict_1):,4]= testPredict_1\n",
        "\n",
        "dataframe.iloc[look_back:look_back+len(trainPredict_1),5]= trainPredict_2\n",
        "dataframe.iloc[-len(testPredict_2):,5]= testPredict_2\n"
      ],
      "execution_count": null,
      "outputs": []
    },
    {
      "cell_type": "code",
      "metadata": {
        "colab": {
          "base_uri": "https://localhost:8080/",
          "height": 355
        },
        "id": "hKcKyx5vhYOr",
        "outputId": "ffbdf92d-2024-4efb-bd00-6806d017b40a"
      },
      "source": [
        "dataframe.plot(figsize=(18,5))\n",
        "plt.ylim(100,600)"
      ],
      "execution_count": null,
      "outputs": [
        {
          "output_type": "execute_result",
          "data": {
            "text/plain": [
              "(100.0, 600.0)"
            ]
          },
          "metadata": {
            "tags": []
          },
          "execution_count": 88
        },
        {
          "output_type": "display_data",
          "data": {
            "image/png": "[encoded data removed]",
            "text/plain": [
              "<Figure size 1296x360 with 1 Axes>"
            ]
          },
          "metadata": {
            "tags": [],
            "needs_background": "light"
          }
        }
      ]
    },
    {
      "cell_type": "code",
      "metadata": {
        "id": "2u5r55h7hYOr"
      },
      "source": [
        ""
      ],
      "execution_count": null,
      "outputs": []
    }
  ]
}